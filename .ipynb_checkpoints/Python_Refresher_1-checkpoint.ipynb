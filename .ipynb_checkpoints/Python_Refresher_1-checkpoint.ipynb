{
 "cells": [
  {
   "cell_type": "code",
   "execution_count": 15,
   "id": "48aee291",
   "metadata": {},
   "outputs": [
    {
     "data": {
      "text/plain": [
       "1000"
      ]
     },
     "execution_count": 15,
     "metadata": {},
     "output_type": "execute_result"
    }
   ],
   "source": [
    "import sys\n",
    "sys.setrecursionlimit(1000)\n",
    "sys.getrecursionlimit()"
   ]
  },
  {
   "cell_type": "code",
   "execution_count": 1,
   "id": "2322e65b",
   "metadata": {},
   "outputs": [],
   "source": [
    "# append, extend, sort, concatenate of a list"
   ]
  },
  {
   "cell_type": "code",
   "execution_count": 2,
   "id": "11a7e663",
   "metadata": {},
   "outputs": [],
   "source": [
    "# tuple dosenot support item assignment"
   ]
  },
  {
   "cell_type": "code",
   "execution_count": 3,
   "id": "bdc1fe5b",
   "metadata": {},
   "outputs": [],
   "source": [
    "# Dict are sorted by Dict.keys() and Dict.values()"
   ]
  },
  {
   "cell_type": "code",
   "execution_count": 4,
   "id": "cc3a3549",
   "metadata": {},
   "outputs": [],
   "source": [
    "# if "
   ]
  },
  {
   "cell_type": "code",
   "execution_count": 5,
   "id": "cd95f701",
   "metadata": {},
   "outputs": [],
   "source": [
    "# Loops\n",
    "# iterating over a sequence(list or string) is called traversal\n",
    "#break, continue and pass"
   ]
  },
  {
   "cell_type": "code",
   "execution_count": 6,
   "id": "683f9ce7",
   "metadata": {},
   "outputs": [],
   "source": [
    "# function\n",
    "# def is keyword for defining a function\n",
    "# def func_name (a , b=\"something\") -- if user is not going to provide the input, \"something\" will be taken as input"
   ]
  },
  {
   "cell_type": "code",
   "execution_count": 7,
   "id": "bae8b3bf",
   "metadata": {},
   "outputs": [],
   "source": [
    "# A function has an ability to call other functions\n",
    "# A function can call itself to which is called as recurssion.\n",
    "# Somewhere this recursion has to end and this end is called as BASE.\n",
    "#"
   ]
  },
  {
   "cell_type": "code",
   "execution_count": 8,
   "id": "79b6686e",
   "metadata": {},
   "outputs": [],
   "source": [
    "def factorial(number):\n",
    "    if number == 1:\n",
    "        return 1\n",
    "    else:\n",
    "        return number*factorial(number-1)"
   ]
  },
  {
   "cell_type": "code",
   "execution_count": 12,
   "id": "6cdd04b4",
   "metadata": {},
   "outputs": [
    {
     "data": {
      "text/plain": [
       "24"
      ]
     },
     "execution_count": 12,
     "metadata": {},
     "output_type": "execute_result"
    }
   ],
   "source": [
    "factorial(4)"
   ]
  },
  {
   "cell_type": "code",
   "execution_count": null,
   "id": "b2dd441d",
   "metadata": {},
   "outputs": [],
   "source": []
  }
 ],
 "metadata": {
  "kernelspec": {
   "display_name": "Python 3 (ipykernel)",
   "language": "python",
   "name": "python3"
  },
  "language_info": {
   "codemirror_mode": {
    "name": "ipython",
    "version": 3
   },
   "file_extension": ".py",
   "mimetype": "text/x-python",
   "name": "python",
   "nbconvert_exporter": "python",
   "pygments_lexer": "ipython3",
   "version": "3.8.18"
  }
 },
 "nbformat": 4,
 "nbformat_minor": 5
}
