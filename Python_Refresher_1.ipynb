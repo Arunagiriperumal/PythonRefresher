{
 "cells": [
  {
   "cell_type": "code",
   "execution_count": 182,
   "id": "48aee291",
   "metadata": {},
   "outputs": [
    {
     "data": {
      "text/plain": [
       "1000"
      ]
     },
     "execution_count": 182,
     "metadata": {},
     "output_type": "execute_result"
    }
   ],
   "source": [
    "import sys\n",
    "sys.setrecursionlimit(1000)\n",
    "sys.getrecursionlimit()"
   ]
  },
  {
   "cell_type": "code",
   "execution_count": 183,
   "id": "2322e65b",
   "metadata": {},
   "outputs": [],
   "source": [
    "# append, extend, sort, concatenate of a list"
   ]
  },
  {
   "cell_type": "code",
   "execution_count": 184,
   "id": "11a7e663",
   "metadata": {},
   "outputs": [],
   "source": [
    "# tuple dosenot support item assignment"
   ]
  },
  {
   "cell_type": "code",
   "execution_count": 185,
   "id": "bdc1fe5b",
   "metadata": {},
   "outputs": [],
   "source": [
    "# Dict are sorted by Dict.keys() and Dict.values()"
   ]
  },
  {
   "cell_type": "code",
   "execution_count": 186,
   "id": "cc3a3549",
   "metadata": {},
   "outputs": [],
   "source": [
    "# if "
   ]
  },
  {
   "cell_type": "code",
   "execution_count": 187,
   "id": "cd95f701",
   "metadata": {},
   "outputs": [],
   "source": [
    "# Loops\n",
    "# iterating over a sequence(list or string) is called traversal\n",
    "#break, continue and pass"
   ]
  },
  {
   "cell_type": "code",
   "execution_count": 188,
   "id": "683f9ce7",
   "metadata": {},
   "outputs": [],
   "source": [
    "# function\n",
    "# def is keyword for defining a function\n",
    "# def func_name (a , b=\"something\") -- if user is not going to provide the input, \"something\" will be taken as input"
   ]
  },
  {
   "cell_type": "code",
   "execution_count": 189,
   "id": "bae8b3bf",
   "metadata": {},
   "outputs": [],
   "source": [
    "# A function has an ability to call other functions\n",
    "# A function can call itself to which is called as recurssion.\n",
    "# Somewhere this recursion has to end and this end is called as BASE.\n",
    "#"
   ]
  },
  {
   "cell_type": "markdown",
   "id": "c1be0d06",
   "metadata": {},
   "source": [
    "### RECURSSION"
   ]
  },
  {
   "cell_type": "code",
   "execution_count": 191,
   "id": "79b6686e",
   "metadata": {},
   "outputs": [],
   "source": [
    "def factorial(number):\n",
    "    if number == 1:\n",
    "        return 1\n",
    "    else:\n",
    "        return number*factorial(number-1)"
   ]
  },
  {
   "cell_type": "code",
   "execution_count": 192,
   "id": "6cdd04b4",
   "metadata": {},
   "outputs": [
    {
     "data": {
      "text/plain": [
       "24"
      ]
     },
     "execution_count": 192,
     "metadata": {},
     "output_type": "execute_result"
    }
   ],
   "source": [
    "factorial(4)"
   ]
  },
  {
   "cell_type": "code",
   "execution_count": 193,
   "id": "b2dd441d",
   "metadata": {},
   "outputs": [],
   "source": [
    "def even_num(numb):\n",
    "    print(numb)\n",
    "    if numb == 2:\n",
    "        return numb\n",
    "    else:\n",
    "        return even_num(numb-2)"
   ]
  },
  {
   "cell_type": "code",
   "execution_count": 194,
   "id": "00681b8c",
   "metadata": {},
   "outputs": [
    {
     "name": "stdout",
     "output_type": "stream",
     "text": [
      "8\n",
      "6\n",
      "4\n",
      "2\n"
     ]
    },
    {
     "data": {
      "text/plain": [
       "2"
      ]
     },
     "execution_count": 194,
     "metadata": {},
     "output_type": "execute_result"
    }
   ],
   "source": [
    "even_num(8)"
   ]
  },
  {
   "cell_type": "code",
   "execution_count": 195,
   "id": "3bf3c42d",
   "metadata": {},
   "outputs": [],
   "source": [
    "# FIBONACCI NUMBERS "
   ]
  },
  {
   "cell_type": "code",
   "execution_count": 196,
   "id": "c6d8b812",
   "metadata": {},
   "outputs": [],
   "source": [
    "def Fibonacci_series(Input):\n",
    "    if Input <= 1:\n",
    "        return Input\n",
    "    else:\n",
    "        x =  Fibonacci_series(Input-1) + Fibonacci_series(Input-2)\n",
    "        print(x)\n",
    "        return(x)\n",
    "       "
   ]
  },
  {
   "cell_type": "code",
   "execution_count": 197,
   "id": "8dfa67be",
   "metadata": {},
   "outputs": [
    {
     "data": {
      "text/plain": [
       "(1, 1, 2, 3, 5, 8, 13, 21)"
      ]
     },
     "execution_count": 197,
     "metadata": {},
     "output_type": "execute_result"
    }
   ],
   "source": [
    "1,1,2,3,5,8,13,21"
   ]
  },
  {
   "cell_type": "code",
   "execution_count": 198,
   "id": "11b73175",
   "metadata": {},
   "outputs": [
    {
     "name": "stdout",
     "output_type": "stream",
     "text": [
      "1\n",
      "2\n",
      "1\n",
      "3\n",
      "1\n",
      "2\n",
      "5\n"
     ]
    },
    {
     "data": {
      "text/plain": [
       "5"
      ]
     },
     "execution_count": 198,
     "metadata": {},
     "output_type": "execute_result"
    }
   ],
   "source": [
    "Fibonacci_series(5)"
   ]
  },
  {
   "cell_type": "code",
   "execution_count": 199,
   "id": "e29a2707",
   "metadata": {},
   "outputs": [],
   "source": [
    "# Memoization is the key to perform a recurrsion effectively\n",
    "\n",
    "# it is a process of storing the values in cache. So future function calls dose not have to repeat the computation."
   ]
  },
  {
   "cell_type": "code",
   "execution_count": 200,
   "id": "c80153c2",
   "metadata": {},
   "outputs": [],
   "source": [
    "fibonachi_cache = {}\n",
    "\n",
    "def fib(n):\n",
    "    #if we have fib of nth term in cache we can return the value, else we have to compute it.\n",
    "    if n == 1:\n",
    "        value = 0\n",
    "    elif n == 2:\n",
    "        value = 1\n",
    "    elif n == 3:\n",
    "        value = 1\n",
    "    elif n > 3:\n",
    "        value = fib(n-1) + fib(n-2)\n",
    "        print(value)\n",
    "    fibonachi_cache[n] = value\n",
    "    #x = n-1\n",
    "    return fibonachi_cache[n]"
   ]
  },
  {
   "cell_type": "code",
   "execution_count": 179,
   "id": "40ebcb10",
   "metadata": {},
   "outputs": [
    {
     "name": "stdout",
     "output_type": "stream",
     "text": [
      "2\n",
      "3\n",
      "2\n",
      "5\n",
      "2\n",
      "3\n",
      "8\n"
     ]
    },
    {
     "data": {
      "text/plain": [
       "8"
      ]
     },
     "execution_count": 179,
     "metadata": {},
     "output_type": "execute_result"
    }
   ],
   "source": [
    "fib(7)"
   ]
  },
  {
   "cell_type": "markdown",
   "id": "14c275f4",
   "metadata": {},
   "source": [
    "### Lambda : it can have multiple arguments, only one expression"
   ]
  },
  {
   "cell_type": "code",
   "execution_count": 243,
   "id": "1e43d41e",
   "metadata": {},
   "outputs": [],
   "source": [
    "my_list_1 = [1,2,4,6,17,18,19,23,24,25]\n",
    "my_list_2 = [1,2,4,6,17,18,19,23,24,26]"
   ]
  },
  {
   "cell_type": "markdown",
   "id": "8ad649f6",
   "metadata": {},
   "source": [
    "### MAP"
   ]
  },
  {
   "cell_type": "code",
   "execution_count": 234,
   "id": "15d6aca1",
   "metadata": {},
   "outputs": [],
   "source": [
    "my_list_3 = list(map(lambda x, y : x * y, my_list_1, my_list_2 ))"
   ]
  },
  {
   "cell_type": "code",
   "execution_count": 235,
   "id": "a82609cb",
   "metadata": {},
   "outputs": [
    {
     "data": {
      "text/plain": [
       "[1, 4, 16, 36, 289, 324, 361, 529, 576, 625]"
      ]
     },
     "execution_count": 235,
     "metadata": {},
     "output_type": "execute_result"
    }
   ],
   "source": [
    "my_list_3"
   ]
  },
  {
   "cell_type": "code",
   "execution_count": 248,
   "id": "f7b1c5fe",
   "metadata": {},
   "outputs": [],
   "source": [
    "#FILTER"
   ]
  },
  {
   "cell_type": "code",
   "execution_count": 244,
   "id": "199abcbf",
   "metadata": {},
   "outputs": [
    {
     "data": {
      "text/plain": [
       "[1, 2, 4, 6, 17, 18, 19, 23, 24, 25]"
      ]
     },
     "execution_count": 244,
     "metadata": {},
     "output_type": "execute_result"
    }
   ],
   "source": [
    "my_list_4_divd = list(filter(lambda x : (x / x) == 1, my_list_1))\n",
    "my_list_4_divd"
   ]
  },
  {
   "cell_type": "markdown",
   "id": "393a7374",
   "metadata": {},
   "source": [
    "### ZIP"
   ]
  },
  {
   "cell_type": "code",
   "execution_count": 245,
   "id": "304affdc",
   "metadata": {},
   "outputs": [],
   "source": [
    "my_list_ones_5 = [y for x, y in zip(my_list_1, my_list_2) if ( x/y ) == 1]"
   ]
  },
  {
   "cell_type": "code",
   "execution_count": 246,
   "id": "a55db612",
   "metadata": {},
   "outputs": [
    {
     "data": {
      "text/plain": [
       "[1, 2, 4, 6, 17, 18, 19, 23, 24]"
      ]
     },
     "execution_count": 246,
     "metadata": {},
     "output_type": "execute_result"
    }
   ],
   "source": [
    "my_list_ones_5"
   ]
  },
  {
   "cell_type": "code",
   "execution_count": 250,
   "id": "a5661321",
   "metadata": {},
   "outputs": [],
   "source": [
    "import functools"
   ]
  },
  {
   "cell_type": "code",
   "execution_count": 261,
   "id": "9a09f96c",
   "metadata": {},
   "outputs": [
    {
     "data": {
      "text/plain": [
       "385119360000"
      ]
     },
     "execution_count": 261,
     "metadata": {},
     "output_type": "execute_result"
    }
   ],
   "source": [
    "functools.reduce(lambda a, b : a*b, my_list_1,  100) #100 is an initializer"
   ]
  },
  {
   "cell_type": "markdown",
   "id": "fc1a7807",
   "metadata": {},
   "source": [
    "### OPERATORS"
   ]
  },
  {
   "cell_type": "code",
   "execution_count": 272,
   "id": "fbd2a82a",
   "metadata": {},
   "outputs": [
    {
     "data": {
      "text/plain": [
       "8"
      ]
     },
     "execution_count": 272,
     "metadata": {},
     "output_type": "execute_result"
    }
   ],
   "source": [
    "10 & 12"
   ]
  },
  {
   "cell_type": "code",
   "execution_count": 271,
   "id": "425a8997",
   "metadata": {},
   "outputs": [
    {
     "data": {
      "text/plain": [
       "14"
      ]
     },
     "execution_count": 271,
     "metadata": {},
     "output_type": "execute_result"
    }
   ],
   "source": [
    "10 | 12"
   ]
  },
  {
   "cell_type": "code",
   "execution_count": 274,
   "id": "f22c16c6",
   "metadata": {},
   "outputs": [
    {
     "data": {
      "text/plain": [
       "-11"
      ]
     },
     "execution_count": 274,
     "metadata": {},
     "output_type": "execute_result"
    }
   ],
   "source": [
    "~10"
   ]
  },
  {
   "cell_type": "code",
   "execution_count": 275,
   "id": "d22e43f1",
   "metadata": {},
   "outputs": [
    {
     "data": {
      "text/plain": [
       "1010"
      ]
     },
     "execution_count": 275,
     "metadata": {},
     "output_type": "execute_result"
    }
   ],
   "source": [
    "1010"
   ]
  },
  {
   "cell_type": "code",
   "execution_count": 279,
   "id": "c17b80da",
   "metadata": {},
   "outputs": [
    {
     "name": "stdout",
     "output_type": "stream",
     "text": [
      "4294967285\n"
     ]
    }
   ],
   "source": [
    "binary_number = '11111111111111111111111111110101'\n",
    "decimal_number = int(binary_number, 2)\n",
    "print(decimal_number)  # Output: 5\n"
   ]
  },
  {
   "cell_type": "code",
   "execution_count": 277,
   "id": "fddcc36a",
   "metadata": {},
   "outputs": [
    {
     "data": {
      "text/plain": [
       "32"
      ]
     },
     "execution_count": 277,
     "metadata": {},
     "output_type": "execute_result"
    }
   ],
   "source": [
    "len(\"00000000000000000000000000001010\")"
   ]
  },
  {
   "cell_type": "code",
   "execution_count": 278,
   "id": "3ce1fb46",
   "metadata": {},
   "outputs": [
    {
     "data": {
      "text/plain": [
       "11111111111111111111111111110101"
      ]
     },
     "execution_count": 278,
     "metadata": {},
     "output_type": "execute_result"
    }
   ],
   "source": [
    "11111111111111111111111111110101 "
   ]
  },
  {
   "cell_type": "code",
   "execution_count": 281,
   "id": "b488bdee",
   "metadata": {},
   "outputs": [
    {
     "name": "stdout",
     "output_type": "stream",
     "text": [
      "-4294967286\n"
     ]
    }
   ],
   "source": [
    "binary_number = '00000000000000000000000000001010'\n",
    "decimal_number = -(int(''.join('1' if b == '0' else '0' for b in binary_number), 2) + 1)\n",
    "print(decimal_number) "
   ]
  },
  {
   "cell_type": "markdown",
   "id": "275484a2",
   "metadata": {},
   "source": [
    "## Yield"
   ]
  },
  {
   "cell_type": "code",
   "execution_count": 375,
   "id": "7c49cf77",
   "metadata": {},
   "outputs": [],
   "source": [
    "def factorial_1(number):\n",
    "    x = 1\n",
    "    for i in range(1, number+1):\n",
    "        new = x * i\n",
    "        x = new\n",
    "        yield x\n",
    "        \n",
    "    "
   ]
  },
  {
   "cell_type": "code",
   "execution_count": 376,
   "id": "37d2b26d",
   "metadata": {},
   "outputs": [
    {
     "data": {
      "text/plain": [
       "<generator object factorial_1 at 0x7fb38c683d60>"
      ]
     },
     "execution_count": 376,
     "metadata": {},
     "output_type": "execute_result"
    }
   ],
   "source": [
    "factorial_1(10)"
   ]
  },
  {
   "cell_type": "code",
   "execution_count": 377,
   "id": "7f91fe9a",
   "metadata": {},
   "outputs": [
    {
     "name": "stdout",
     "output_type": "stream",
     "text": [
      "1\n",
      "2\n",
      "6\n",
      "24\n",
      "120\n",
      "720\n",
      "5040\n",
      "40320\n",
      "362880\n",
      "3628800\n"
     ]
    }
   ],
   "source": [
    "for i in factorial_1(10):\n",
    "    print(i)"
   ]
  },
  {
   "cell_type": "markdown",
   "id": "b9073b82",
   "metadata": {},
   "source": [
    "## Finally"
   ]
  },
  {
   "cell_type": "markdown",
   "id": "5c180981",
   "metadata": {},
   "source": [
    "## Assert"
   ]
  },
  {
   "cell_type": "markdown",
   "id": "2a207e71",
   "metadata": {},
   "source": [
    "## Break and Continue"
   ]
  },
  {
   "cell_type": "code",
   "execution_count": 383,
   "id": "3a3800e7",
   "metadata": {},
   "outputs": [],
   "source": [
    "def factorial_2(number):\n",
    "    x = 1\n",
    "    for i in range(number+1):\n",
    "        if i == 0:\n",
    "            continue\n",
    "        new = x * i\n",
    "        x = new\n",
    "    return x"
   ]
  },
  {
   "cell_type": "code",
   "execution_count": 384,
   "id": "819d7db3",
   "metadata": {},
   "outputs": [
    {
     "data": {
      "text/plain": [
       "3628800"
      ]
     },
     "execution_count": 384,
     "metadata": {},
     "output_type": "execute_result"
    }
   ],
   "source": [
    "factorial_2(10)"
   ]
  },
  {
   "cell_type": "markdown",
   "id": "43b75faa",
   "metadata": {},
   "source": [
    "## Sorted"
   ]
  },
  {
   "cell_type": "code",
   "execution_count": 393,
   "id": "d327f56f",
   "metadata": {},
   "outputs": [
    {
     "data": {
      "text/plain": [
       "[-5, 5, -4, 4, -3, 3, -2, 2, -1, 1, 0]"
      ]
     },
     "execution_count": 393,
     "metadata": {},
     "output_type": "execute_result"
    }
   ],
   "source": [
    "sorted(range(-5, 6), key=(lambda x: x ** 2), reverse=True)"
   ]
  },
  {
   "cell_type": "code",
   "execution_count": 406,
   "id": "89b72f58",
   "metadata": {},
   "outputs": [],
   "source": [
    "list_1 = [\"Cat\", \"Dog\"]"
   ]
  },
  {
   "cell_type": "code",
   "execution_count": 407,
   "id": "4c36fcbc",
   "metadata": {},
   "outputs": [],
   "source": [
    "list_1 = list(map(lambda x : str.upper(x), list_1 ))"
   ]
  },
  {
   "cell_type": "code",
   "execution_count": 408,
   "id": "0e5d80ae",
   "metadata": {},
   "outputs": [
    {
     "data": {
      "text/plain": [
       "['CAT', 'DOG']"
      ]
     },
     "execution_count": 408,
     "metadata": {},
     "output_type": "execute_result"
    }
   ],
   "source": [
    "list_1"
   ]
  },
  {
   "cell_type": "code",
   "execution_count": 410,
   "id": "3ced1d5d",
   "metadata": {},
   "outputs": [],
   "source": [
    "import functools"
   ]
  },
  {
   "cell_type": "code",
   "execution_count": 412,
   "id": "96def7e9",
   "metadata": {},
   "outputs": [],
   "source": [
    "def factorial_3(number):\n",
    "    list_fact = list(range(1, number+1))\n",
    "    return (functools.reduce(lambda x , y : x*y, list_fact))"
   ]
  },
  {
   "cell_type": "code",
   "execution_count": 413,
   "id": "c661699e",
   "metadata": {},
   "outputs": [
    {
     "data": {
      "text/plain": [
       "3628800"
      ]
     },
     "execution_count": 413,
     "metadata": {},
     "output_type": "execute_result"
    }
   ],
   "source": [
    "factorial_3(10)"
   ]
  },
  {
   "cell_type": "code",
   "execution_count": 426,
   "id": "e9cc59e0",
   "metadata": {},
   "outputs": [],
   "source": [
    "def greater_number(a=list):\n",
    "    return(functools.reduce(lambda a, b : a if a > b else b, a))\n",
    "    "
   ]
  },
  {
   "cell_type": "code",
   "execution_count": 427,
   "id": "0a2e9dde",
   "metadata": {},
   "outputs": [
    {
     "data": {
      "text/plain": [
       "12000"
      ]
     },
     "execution_count": 427,
     "metadata": {},
     "output_type": "execute_result"
    }
   ],
   "source": [
    "greater_number([200, 202, 500, 10000, 6,12000, 7, 9, 10])"
   ]
  },
  {
   "cell_type": "markdown",
   "id": "3999dd4d",
   "metadata": {},
   "source": [
    "## NUMPY"
   ]
  },
  {
   "cell_type": "code",
   "execution_count": 442,
   "id": "2dea5c3c",
   "metadata": {},
   "outputs": [
    {
     "name": "stdout",
     "output_type": "stream",
     "text": [
      "50th percentile: 5.5\n",
      "75th percentile: 7.75\n",
      "25th percentile: 3.25\n"
     ]
    }
   ],
   "source": [
    "import numpy as np\n",
    "data = np.array([1, 2, 3, 4, 5, 6, 7, 8, 9, 10])\n",
    "data_2 = list(map(lambda x : x*3, data))\n",
    "# Compute the 25th and 75th percentiles\n",
    "p50 = np.percentile(data, 50)\n",
    "p75 = np.percentile(data, 75)\n",
    "p25 = np.percentile(data, 25)\n",
    "\n",
    "print(\"50th percentile:\", p50)\n",
    "print(\"75th percentile:\", p75)\n",
    "print(\"25th percentile:\", p25)"
   ]
  },
  {
   "cell_type": "code",
   "execution_count": 449,
   "id": "0488cb42",
   "metadata": {},
   "outputs": [
    {
     "name": "stdout",
     "output_type": "stream",
     "text": [
      "50th percentile: 16.5\n",
      "75th percentile: 23.25\n",
      "25th percentile: 9.75\n"
     ]
    }
   ],
   "source": [
    "p50_2 = np.percentile(data_2, 50)\n",
    "p75_2 = np.percentile(data_2, 75)\n",
    "p25_2 = np.percentile(data_2, 25)\n",
    "\n",
    "print(\"50th percentile:\", p50_2)\n",
    "print(\"75th percentile:\", p75_2)\n",
    "print(\"25th percentile:\", p25_2)"
   ]
  },
  {
   "cell_type": "code",
   "execution_count": 450,
   "id": "6a7e5489",
   "metadata": {},
   "outputs": [
    {
     "data": {
      "text/plain": [
       "2.25"
      ]
     },
     "execution_count": 450,
     "metadata": {},
     "output_type": "execute_result"
    }
   ],
   "source": [
    "(25 / 100)*(9)"
   ]
  },
  {
   "cell_type": "code",
   "execution_count": 445,
   "id": "b0184c37",
   "metadata": {},
   "outputs": [],
   "source": [
    "data_2 = np.asarray(data_2)"
   ]
  },
  {
   "cell_type": "code",
   "execution_count": 451,
   "id": "255a8749",
   "metadata": {},
   "outputs": [
    {
     "data": {
      "text/plain": [
       "array([ 3,  6,  9, 12, 15, 18, 21, 24, 27, 30])"
      ]
     },
     "execution_count": 451,
     "metadata": {},
     "output_type": "execute_result"
    }
   ],
   "source": [
    "data_2"
   ]
  },
  {
   "cell_type": "markdown",
   "id": "43227369",
   "metadata": {},
   "source": [
    "## Pandas"
   ]
  },
  {
   "cell_type": "code",
   "execution_count": 452,
   "id": "1a2bd833",
   "metadata": {},
   "outputs": [],
   "source": [
    "## melt \n",
    "## Stack\n",
    "## drop"
   ]
  },
  {
   "cell_type": "code",
   "execution_count": 453,
   "id": "e1248d05",
   "metadata": {},
   "outputs": [],
   "source": [
    "# polymorphisim\n",
    "\n",
    "# Operator overloading\n",
    "# function overloading\n",
    "# function overrding\n",
    "#"
   ]
  },
  {
   "cell_type": "code",
   "execution_count": null,
   "id": "42ac9abb",
   "metadata": {},
   "outputs": [],
   "source": []
  }
 ],
 "metadata": {
  "kernelspec": {
   "display_name": "Python 3 (ipykernel)",
   "language": "python",
   "name": "python3"
  },
  "language_info": {
   "codemirror_mode": {
    "name": "ipython",
    "version": 3
   },
   "file_extension": ".py",
   "mimetype": "text/x-python",
   "name": "python",
   "nbconvert_exporter": "python",
   "pygments_lexer": "ipython3",
   "version": "3.8.18"
  }
 },
 "nbformat": 4,
 "nbformat_minor": 5
}
